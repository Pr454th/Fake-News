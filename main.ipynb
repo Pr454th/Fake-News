{
 "metadata": {
  "language_info": {
   "codemirror_mode": {
    "name": "ipython",
    "version": 3
   },
   "file_extension": ".py",
   "mimetype": "text/x-python",
   "name": "python",
   "nbconvert_exporter": "python",
   "pygments_lexer": "ipython3",
   "version": "3.8.5"
  },
  "orig_nbformat": 4,
  "kernelspec": {
   "name": "python3",
   "display_name": "Python 3.8.5 64-bit ('venv': venv)"
  },
  "interpreter": {
   "hash": "11c1db382d52df6fba831bfa4a2ae7127b83b9dcc5f5fc2b16405e38bb46b2fc"
  }
 },
 "nbformat": 4,
 "nbformat_minor": 2,
 "cells": [
  {
   "cell_type": "code",
   "execution_count": 70,
   "source": [
    "import pandas as pd\r\n",
    "import numpy as np\r\n",
    "\r\n",
    "from bs4 import BeautifulSoup\r\n",
    "import re\r\n",
    "import nltk\r\n",
    "from nltk.corpus import stopwords\r\n",
    "from nltk.stem import WordNetLemmatizer\r\n",
    "\r\n",
    "from sklearn.model_selection import train_test_split\r\n",
    "from sklearn.feature_extraction.text import TfidfVectorizer\r\n",
    "from sklearn.linear_model import LogisticRegression\r\n",
    "from sklearn.svm import LinearSVC\r\n",
    "from sklearn.metrics import classification_report\r\n",
    "from sklearn.pipeline import Pipeline\r\n",
    "\r\n",
    "from joblib import dump"
   ],
   "outputs": [],
   "metadata": {}
  },
  {
   "cell_type": "code",
   "execution_count": 3,
   "source": [
    "# Read all the datasets\r\n",
    "df1 = pd.read_csv(\"./dataset/gossipcop_real.csv\", usecols = ['title'])\r\n",
    "df2 = pd.read_csv(\"./dataset/politifact_real.csv\", usecols = ['title'])\r\n",
    "df3 = pd.read_csv(\"./dataset/gossipcop_fake.csv\", usecols = ['title'])\r\n",
    "df4 = pd.read_csv(\"./dataset/politifact_fake.csv\", usecols = ['title'])"
   ],
   "outputs": [],
   "metadata": {}
  },
  {
   "cell_type": "code",
   "execution_count": 4,
   "source": [
    "# Combine real and fake data into separate datasets\r\n",
    "df_real = pd.concat([df1, df2], axis=0)\r\n",
    "df_fake = pd.concat([df3, df4], axis=0)"
   ],
   "outputs": [],
   "metadata": {}
  },
  {
   "cell_type": "code",
   "execution_count": 5,
   "source": [
    "# Check for empty and NA values\r\n",
    "df_real[df_real.loc[:,:] == ' '] = np.NaN\r\n",
    "print(df_real.isna().sum())\r\n",
    "df_fake[df_fake.loc[:,:] == ' '] = np.NaN\r\n",
    "print(df_fake.isna().sum())"
   ],
   "outputs": [
    {
     "output_type": "stream",
     "name": "stdout",
     "text": [
      "title    0\n",
      "dtype: int64\n",
      "title    0\n",
      "dtype: int64\n"
     ]
    }
   ],
   "metadata": {}
  },
  {
   "cell_type": "code",
   "execution_count": 6,
   "source": [
    "# Print the length of both the datasets\r\n",
    "print(len(df_real))\r\n",
    "print(len(df_fake))"
   ],
   "outputs": [
    {
     "output_type": "stream",
     "name": "stdout",
     "text": [
      "17441\n",
      "5755\n"
     ]
    }
   ],
   "metadata": {}
  },
  {
   "cell_type": "code",
   "execution_count": 7,
   "source": [
    "# Remove sentences having less than 5 words\r\n",
    "df_real = df_real[~df_real.title.str.count('\\s+').lt(4)]\r\n",
    "\r\n",
    "# Add label column for real news\r\n",
    "df_real['label'] = 0\r\n",
    "df_real"
   ],
   "outputs": [
    {
     "output_type": "execute_result",
     "data": {
      "text/plain": [
       "                                                 title  label\n",
       "0    Teen Mom Star Jenelle Evans' Wedding Dress Is ...      0\n",
       "1    Kylie Jenner refusing to discuss Tyga on Life ...      0\n",
       "3    I Tried Kim Kardashian's Butt Workout & Am For...      0\n",
       "4    Celine Dion donates concert proceeds to Vegas ...      0\n",
       "5    Chris Evans, Millie Bobby Brown, Snoop Dogg an...      0\n",
       "..                                                 ...    ...\n",
       "618  Trump asking Congress, not Mexico, to pay for ...      0\n",
       "619  Flake: “Religious tests should have no place i...      0\n",
       "620                           Change We Can Believe In      0\n",
       "621  deputy director of national health statistics ...      0\n",
       "622  Romneys ProLife Conversion Myth or Reality Jun...      0\n",
       "\n",
       "[16460 rows x 2 columns]"
      ],
      "text/html": [
       "<div>\n",
       "<style scoped>\n",
       "    .dataframe tbody tr th:only-of-type {\n",
       "        vertical-align: middle;\n",
       "    }\n",
       "\n",
       "    .dataframe tbody tr th {\n",
       "        vertical-align: top;\n",
       "    }\n",
       "\n",
       "    .dataframe thead th {\n",
       "        text-align: right;\n",
       "    }\n",
       "</style>\n",
       "<table border=\"1\" class=\"dataframe\">\n",
       "  <thead>\n",
       "    <tr style=\"text-align: right;\">\n",
       "      <th></th>\n",
       "      <th>title</th>\n",
       "      <th>label</th>\n",
       "    </tr>\n",
       "  </thead>\n",
       "  <tbody>\n",
       "    <tr>\n",
       "      <th>0</th>\n",
       "      <td>Teen Mom Star Jenelle Evans' Wedding Dress Is ...</td>\n",
       "      <td>0</td>\n",
       "    </tr>\n",
       "    <tr>\n",
       "      <th>1</th>\n",
       "      <td>Kylie Jenner refusing to discuss Tyga on Life ...</td>\n",
       "      <td>0</td>\n",
       "    </tr>\n",
       "    <tr>\n",
       "      <th>3</th>\n",
       "      <td>I Tried Kim Kardashian's Butt Workout &amp; Am For...</td>\n",
       "      <td>0</td>\n",
       "    </tr>\n",
       "    <tr>\n",
       "      <th>4</th>\n",
       "      <td>Celine Dion donates concert proceeds to Vegas ...</td>\n",
       "      <td>0</td>\n",
       "    </tr>\n",
       "    <tr>\n",
       "      <th>5</th>\n",
       "      <td>Chris Evans, Millie Bobby Brown, Snoop Dogg an...</td>\n",
       "      <td>0</td>\n",
       "    </tr>\n",
       "    <tr>\n",
       "      <th>...</th>\n",
       "      <td>...</td>\n",
       "      <td>...</td>\n",
       "    </tr>\n",
       "    <tr>\n",
       "      <th>618</th>\n",
       "      <td>Trump asking Congress, not Mexico, to pay for ...</td>\n",
       "      <td>0</td>\n",
       "    </tr>\n",
       "    <tr>\n",
       "      <th>619</th>\n",
       "      <td>Flake: “Religious tests should have no place i...</td>\n",
       "      <td>0</td>\n",
       "    </tr>\n",
       "    <tr>\n",
       "      <th>620</th>\n",
       "      <td>Change We Can Believe In</td>\n",
       "      <td>0</td>\n",
       "    </tr>\n",
       "    <tr>\n",
       "      <th>621</th>\n",
       "      <td>deputy director of national health statistics ...</td>\n",
       "      <td>0</td>\n",
       "    </tr>\n",
       "    <tr>\n",
       "      <th>622</th>\n",
       "      <td>Romneys ProLife Conversion Myth or Reality Jun...</td>\n",
       "      <td>0</td>\n",
       "    </tr>\n",
       "  </tbody>\n",
       "</table>\n",
       "<p>16460 rows × 2 columns</p>\n",
       "</div>"
      ]
     },
     "metadata": {},
     "execution_count": 7
    }
   ],
   "metadata": {}
  },
  {
   "cell_type": "code",
   "execution_count": 8,
   "source": [
    "# Remove sentences having less than 5 words\r\n",
    "df_fake = df_fake[~df_fake.title.str.count('\\s+').lt(4)]\r\n",
    "\r\n",
    "# Add label column for fake news\r\n",
    "df_fake['label'] = 1\r\n",
    "df_fake"
   ],
   "outputs": [
    {
     "output_type": "execute_result",
     "data": {
      "text/plain": [
       "                                                 title  label\n",
       "0    Did Miley Cyrus and Liam Hemsworth secretly ge...      1\n",
       "1    Paris Jackson & Cara Delevingne Enjoy Night Ou...      1\n",
       "2    Celebrities Join Tax March in Protest of Donal...      1\n",
       "3    Cindy Crawford's daughter Kaia Gerber wears a ...      1\n",
       "4        Full List of 2018 Oscar Nominations – Variety      1\n",
       "..                                                 ...    ...\n",
       "426  BUSTED: Russian Mansions Obama Seized Were Mea...      1\n",
       "427        Who is affected by the government shutdown?      1\n",
       "428  Lindsey Graham Threatens To Convert To Democra...      1\n",
       "429  ELECTORAL COLLEGE ELECTOR COMMITS SUICIDE TO A...      1\n",
       "430  Sarah Palin Calls To Boycott Mall Of America B...      1\n",
       "\n",
       "[5433 rows x 2 columns]"
      ],
      "text/html": [
       "<div>\n",
       "<style scoped>\n",
       "    .dataframe tbody tr th:only-of-type {\n",
       "        vertical-align: middle;\n",
       "    }\n",
       "\n",
       "    .dataframe tbody tr th {\n",
       "        vertical-align: top;\n",
       "    }\n",
       "\n",
       "    .dataframe thead th {\n",
       "        text-align: right;\n",
       "    }\n",
       "</style>\n",
       "<table border=\"1\" class=\"dataframe\">\n",
       "  <thead>\n",
       "    <tr style=\"text-align: right;\">\n",
       "      <th></th>\n",
       "      <th>title</th>\n",
       "      <th>label</th>\n",
       "    </tr>\n",
       "  </thead>\n",
       "  <tbody>\n",
       "    <tr>\n",
       "      <th>0</th>\n",
       "      <td>Did Miley Cyrus and Liam Hemsworth secretly ge...</td>\n",
       "      <td>1</td>\n",
       "    </tr>\n",
       "    <tr>\n",
       "      <th>1</th>\n",
       "      <td>Paris Jackson &amp; Cara Delevingne Enjoy Night Ou...</td>\n",
       "      <td>1</td>\n",
       "    </tr>\n",
       "    <tr>\n",
       "      <th>2</th>\n",
       "      <td>Celebrities Join Tax March in Protest of Donal...</td>\n",
       "      <td>1</td>\n",
       "    </tr>\n",
       "    <tr>\n",
       "      <th>3</th>\n",
       "      <td>Cindy Crawford's daughter Kaia Gerber wears a ...</td>\n",
       "      <td>1</td>\n",
       "    </tr>\n",
       "    <tr>\n",
       "      <th>4</th>\n",
       "      <td>Full List of 2018 Oscar Nominations – Variety</td>\n",
       "      <td>1</td>\n",
       "    </tr>\n",
       "    <tr>\n",
       "      <th>...</th>\n",
       "      <td>...</td>\n",
       "      <td>...</td>\n",
       "    </tr>\n",
       "    <tr>\n",
       "      <th>426</th>\n",
       "      <td>BUSTED: Russian Mansions Obama Seized Were Mea...</td>\n",
       "      <td>1</td>\n",
       "    </tr>\n",
       "    <tr>\n",
       "      <th>427</th>\n",
       "      <td>Who is affected by the government shutdown?</td>\n",
       "      <td>1</td>\n",
       "    </tr>\n",
       "    <tr>\n",
       "      <th>428</th>\n",
       "      <td>Lindsey Graham Threatens To Convert To Democra...</td>\n",
       "      <td>1</td>\n",
       "    </tr>\n",
       "    <tr>\n",
       "      <th>429</th>\n",
       "      <td>ELECTORAL COLLEGE ELECTOR COMMITS SUICIDE TO A...</td>\n",
       "      <td>1</td>\n",
       "    </tr>\n",
       "    <tr>\n",
       "      <th>430</th>\n",
       "      <td>Sarah Palin Calls To Boycott Mall Of America B...</td>\n",
       "      <td>1</td>\n",
       "    </tr>\n",
       "  </tbody>\n",
       "</table>\n",
       "<p>5433 rows × 2 columns</p>\n",
       "</div>"
      ]
     },
     "metadata": {},
     "execution_count": 8
    }
   ],
   "metadata": {}
  },
  {
   "cell_type": "code",
   "execution_count": 9,
   "source": [
    "# TODO: Deal with class imbalance"
   ],
   "outputs": [],
   "metadata": {}
  },
  {
   "cell_type": "code",
   "execution_count": 10,
   "source": [
    "# Combine both the real and fake news dataset\r\n",
    "df = pd.concat([df_real, df_fake])\r\n",
    "\r\n",
    "# Shuffle the final dataset\r\n",
    "df = df.sample(frac=1)\r\n",
    "df"
   ],
   "outputs": [
    {
     "output_type": "execute_result",
     "data": {
      "text/plain": [
       "                                                   title  label\n",
       "4654    DWTS Season 27 Results: Week 8 - The Semi-Finals      0\n",
       "4879                        Marvel v DC: Dawn of Rivalry      0\n",
       "13422  Jessica Alba Uses This Product to Fix Creases ...      0\n",
       "6975   Why Did NeNe Leakes Return To 'The Real Housew...      0\n",
       "609    Sienna Miller “Cozying Up” To Ben Affleck For ...      1\n",
       "...                                                  ...    ...\n",
       "8457   Justin Bieber Wants to Be With Selena Gomez Bu...      0\n",
       "153    Trump on Revamping the Military: We’re Bringin...      1\n",
       "12369                        Hugh Hefner, the Pajama Man      0\n",
       "12646  Demi Lovato Shares Details of Final Interventi...      0\n",
       "3780   Kim Kardashian Has A Surprising New Booty Reso...      1\n",
       "\n",
       "[21893 rows x 2 columns]"
      ],
      "text/html": [
       "<div>\n",
       "<style scoped>\n",
       "    .dataframe tbody tr th:only-of-type {\n",
       "        vertical-align: middle;\n",
       "    }\n",
       "\n",
       "    .dataframe tbody tr th {\n",
       "        vertical-align: top;\n",
       "    }\n",
       "\n",
       "    .dataframe thead th {\n",
       "        text-align: right;\n",
       "    }\n",
       "</style>\n",
       "<table border=\"1\" class=\"dataframe\">\n",
       "  <thead>\n",
       "    <tr style=\"text-align: right;\">\n",
       "      <th></th>\n",
       "      <th>title</th>\n",
       "      <th>label</th>\n",
       "    </tr>\n",
       "  </thead>\n",
       "  <tbody>\n",
       "    <tr>\n",
       "      <th>4654</th>\n",
       "      <td>DWTS Season 27 Results: Week 8 - The Semi-Finals</td>\n",
       "      <td>0</td>\n",
       "    </tr>\n",
       "    <tr>\n",
       "      <th>4879</th>\n",
       "      <td>Marvel v DC: Dawn of Rivalry</td>\n",
       "      <td>0</td>\n",
       "    </tr>\n",
       "    <tr>\n",
       "      <th>13422</th>\n",
       "      <td>Jessica Alba Uses This Product to Fix Creases ...</td>\n",
       "      <td>0</td>\n",
       "    </tr>\n",
       "    <tr>\n",
       "      <th>6975</th>\n",
       "      <td>Why Did NeNe Leakes Return To 'The Real Housew...</td>\n",
       "      <td>0</td>\n",
       "    </tr>\n",
       "    <tr>\n",
       "      <th>609</th>\n",
       "      <td>Sienna Miller “Cozying Up” To Ben Affleck For ...</td>\n",
       "      <td>1</td>\n",
       "    </tr>\n",
       "    <tr>\n",
       "      <th>...</th>\n",
       "      <td>...</td>\n",
       "      <td>...</td>\n",
       "    </tr>\n",
       "    <tr>\n",
       "      <th>8457</th>\n",
       "      <td>Justin Bieber Wants to Be With Selena Gomez Bu...</td>\n",
       "      <td>0</td>\n",
       "    </tr>\n",
       "    <tr>\n",
       "      <th>153</th>\n",
       "      <td>Trump on Revamping the Military: We’re Bringin...</td>\n",
       "      <td>1</td>\n",
       "    </tr>\n",
       "    <tr>\n",
       "      <th>12369</th>\n",
       "      <td>Hugh Hefner, the Pajama Man</td>\n",
       "      <td>0</td>\n",
       "    </tr>\n",
       "    <tr>\n",
       "      <th>12646</th>\n",
       "      <td>Demi Lovato Shares Details of Final Interventi...</td>\n",
       "      <td>0</td>\n",
       "    </tr>\n",
       "    <tr>\n",
       "      <th>3780</th>\n",
       "      <td>Kim Kardashian Has A Surprising New Booty Reso...</td>\n",
       "      <td>1</td>\n",
       "    </tr>\n",
       "  </tbody>\n",
       "</table>\n",
       "<p>21893 rows × 2 columns</p>\n",
       "</div>"
      ]
     },
     "metadata": {},
     "execution_count": 10
    }
   ],
   "metadata": {}
  },
  {
   "cell_type": "code",
   "execution_count": 11,
   "source": [
    "# Count the distinct label values\r\n",
    "df.label.value_counts()"
   ],
   "outputs": [
    {
     "output_type": "execute_result",
     "data": {
      "text/plain": [
       "0    16460\n",
       "1     5433\n",
       "Name: label, dtype: int64"
      ]
     },
     "metadata": {},
     "execution_count": 11
    }
   ],
   "metadata": {}
  },
  {
   "cell_type": "code",
   "execution_count": null,
   "source": [
    "# Download stop words\r\n",
    "nltk.download('stopwords')"
   ],
   "outputs": [],
   "metadata": {}
  },
  {
   "cell_type": "code",
   "execution_count": null,
   "source": [
    "# Download WordNet (lexical database for English language)\r\n",
    "nltk.download('wordnet')"
   ],
   "outputs": [],
   "metadata": {}
  },
  {
   "cell_type": "code",
   "execution_count": 17,
   "source": [
    "# Text preprocessing\r\n",
    "def preprocessing(tweet):\r\n",
    "  text = BeautifulSoup(tweet).get_text() # Remove HTML tags\r\n",
    "  text = re.sub(\"[^a-zA-Z]\", \" \", text) # Remove special characters\r\n",
    "  text = re.sub('((www.[^s]+)|(https?://[^s]+))',' ', text) # Remove URLs\r\n",
    "  text = text.lower().split() # Convert to lowercase and split each word\r\n",
    "\r\n",
    "  stop_w = set(stopwords.words(\"english\")) # Use a set instead of list for faster searching\r\n",
    "  text = [w for w in text if not w in stop_w] # Remove stop words\r\n",
    "  text = [WordNetLemmatizer().lemmatize(w) for w in text] # Lemmatization\r\n",
    "\r\n",
    "  return (\" \".join(text)) # Return the words after joining each word separated by space"
   ],
   "outputs": [],
   "metadata": {}
  },
  {
   "cell_type": "code",
   "execution_count": 18,
   "source": [
    "# Clean the textual data\r\n",
    "df['title'] = df['title'].apply(lambda text: preprocessing(text))\r\n",
    "df['title'].head()"
   ],
   "outputs": [
    {
     "output_type": "execute_result",
     "data": {
      "text/plain": [
       "4654                    dwts season result week semi final\n",
       "4879                              marvel v dc dawn rivalry\n",
       "13422         jessica alba us product fix crease concealer\n",
       "6975     nene leakes return real housewife atlanta seas...\n",
       "609           sienna miller cozying ben affleck movie role\n",
       "Name: title, dtype: object"
      ]
     },
     "metadata": {},
     "execution_count": 18
    }
   ],
   "metadata": {}
  },
  {
   "cell_type": "code",
   "execution_count": 19,
   "source": [
    "# Split into train and test sets\r\n",
    "train, test = train_test_split(df, test_size = 0.2, stratify = df['label'], random_state = 42)"
   ],
   "outputs": [],
   "metadata": {}
  },
  {
   "cell_type": "code",
   "execution_count": 20,
   "source": [
    "# Get the shape of datasets after splitting\r\n",
    "train.shape, test.shape"
   ],
   "outputs": [
    {
     "output_type": "execute_result",
     "data": {
      "text/plain": [
       "((17514, 2), (4379, 2))"
      ]
     },
     "metadata": {},
     "execution_count": 20
    }
   ],
   "metadata": {}
  },
  {
   "cell_type": "code",
   "execution_count": 49,
   "source": [
    "#  Create a TF-IDF vectorizer object\r\n",
    "tfidf_vec = TfidfVectorizer(max_features=10000, ngram_range=(1, 4))\r\n",
    "\r\n",
    "# Data fitting and transformation\r\n",
    "train_df = tfidf_vec.fit_transform(train.title)\r\n",
    "test_df  = tfidf_vec.transform(test.title)"
   ],
   "outputs": [],
   "metadata": {}
  },
  {
   "cell_type": "code",
   "execution_count": 64,
   "source": [
    "# Model 1 - Logistic Regressor\r\n",
    "logis_reg = LogisticRegression()\r\n",
    "logis_reg.fit(train_df, train.label)\r\n",
    "\r\n",
    "# Evaluation metrics\r\n",
    "y_pred = logis_reg.predict(test_df)\r\n",
    "print(classification_report(test.label, y_pred, target_names=['Negative', 'Positive']))"
   ],
   "outputs": [
    {
     "output_type": "stream",
     "name": "stdout",
     "text": [
      "              precision    recall  f1-score   support\n",
      "\n",
      "    Negative       0.85      0.96      0.91      3292\n",
      "    Positive       0.82      0.50      0.62      1087\n",
      "\n",
      "    accuracy                           0.85      4379\n",
      "   macro avg       0.84      0.73      0.76      4379\n",
      "weighted avg       0.84      0.85      0.83      4379\n",
      "\n"
     ]
    }
   ],
   "metadata": {}
  },
  {
   "cell_type": "code",
   "execution_count": 65,
   "source": [
    "# Model 2 - Linear Support Vector Classifier\r\n",
    "linear_svc = LinearSVC()\r\n",
    "linear_svc.fit(train_df, train.label)\r\n",
    "y_pred = linear_svc.predict(test_df)\r\n",
    "\r\n",
    "# Evaluation metrics\r\n",
    "print(classification_report(test.label, y_pred, target_names=['Negative', 'Positive']))"
   ],
   "outputs": [
    {
     "output_type": "stream",
     "name": "stdout",
     "text": [
      "              precision    recall  f1-score   support\n",
      "\n",
      "    Negative       0.88      0.92      0.90      3292\n",
      "    Positive       0.72      0.60      0.66      1087\n",
      "\n",
      "    accuracy                           0.84      4379\n",
      "   macro avg       0.80      0.76      0.78      4379\n",
      "weighted avg       0.84      0.84      0.84      4379\n",
      "\n"
     ]
    }
   ],
   "metadata": {}
  },
  {
   "cell_type": "code",
   "execution_count": 66,
   "source": [
    "# Define the stages of the pipeline\r\n",
    "pipeline = Pipeline(steps= [('tfidf', TfidfVectorizer(max_features=10000, ngram_range=(1, 4))),\r\n",
    "                            ('model', LinearSVC())])\r\n",
    "\r\n",
    "# Fit the pipeline model with the training data                            \r\n",
    "pipeline.fit(train.title, train.label)"
   ],
   "outputs": [
    {
     "output_type": "execute_result",
     "data": {
      "text/plain": [
       "Pipeline(steps=[('tfidf',\n",
       "                 TfidfVectorizer(max_features=10000, ngram_range=(1, 4))),\n",
       "                ('model', LinearSVC())])"
      ]
     },
     "metadata": {},
     "execution_count": 66
    }
   ],
   "metadata": {}
  },
  {
   "cell_type": "code",
   "execution_count": 67,
   "source": [
    "# Predict the label using the pipeline\r\n",
    "pipeline.predict(['BREAKING: FIFA Declares Bankruptcy Over Kneeling Thugs'])"
   ],
   "outputs": [
    {
     "output_type": "execute_result",
     "data": {
      "text/plain": [
       "array([1], dtype=int64)"
      ]
     },
     "metadata": {},
     "execution_count": 67
    }
   ],
   "metadata": {}
  },
  {
   "cell_type": "code",
   "execution_count": 68,
   "source": [
    "# Dump the pipeline model\r\n",
    "dump(pipeline, filename = \"fake_news_classification.joblib\")"
   ],
   "outputs": [
    {
     "output_type": "execute_result",
     "data": {
      "text/plain": [
       "['fake_news_classification.joblib']"
      ]
     },
     "metadata": {},
     "execution_count": 68
    }
   ],
   "metadata": {}
  },
  {
   "cell_type": "code",
   "execution_count": null,
   "source": [],
   "outputs": [],
   "metadata": {}
  }
 ]
}