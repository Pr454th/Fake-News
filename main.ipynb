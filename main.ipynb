{
 "metadata": {
  "language_info": {
   "codemirror_mode": {
    "name": "ipython",
    "version": 3
   },
   "file_extension": ".py",
   "mimetype": "text/x-python",
   "name": "python",
   "nbconvert_exporter": "python",
   "pygments_lexer": "ipython3",
   "version": "3.8.5"
  },
  "orig_nbformat": 4,
  "kernelspec": {
   "name": "python3",
   "display_name": "Python 3.8.5 64-bit ('venv': venv)"
  },
  "interpreter": {
   "hash": "11c1db382d52df6fba831bfa4a2ae7127b83b9dcc5f5fc2b16405e38bb46b2fc"
  }
 },
 "nbformat": 4,
 "nbformat_minor": 2,
 "cells": [
  {
   "cell_type": "code",
   "execution_count": 1,
   "source": [
    "import pandas as pd\r\n",
    "import numpy as np\r\n",
    "\r\n",
    "from bs4 import BeautifulSoup\r\n",
    "import re\r\n",
    "import nltk\r\n",
    "from nltk.corpus import stopwords\r\n",
    "from nltk.stem import WordNetLemmatizer\r\n",
    "\r\n",
    "from sklearn.model_selection import train_test_split\r\n",
    "from sklearn.feature_extraction.text import TfidfVectorizer\r\n",
    "from sklearn.linear_model import LogisticRegression\r\n",
    "from sklearn.svm import LinearSVC\r\n",
    "from sklearn.metrics import classification_report\r\n",
    "\r\n",
    "from imblearn.over_sampling import SMOTE\r\n",
    "from imblearn.pipeline import Pipeline as imbpipeline\r\n",
    "\r\n",
    "from joblib import dump"
   ],
   "outputs": [],
   "metadata": {}
  },
  {
   "cell_type": "code",
   "execution_count": 2,
   "source": [
    "# Read all the datasets\r\n",
    "df1 = pd.read_csv(\"./dataset/gossipcop_real.csv\", usecols = ['title'])\r\n",
    "df2 = pd.read_csv(\"./dataset/politifact_real.csv\", usecols = ['title'])\r\n",
    "df3 = pd.read_csv(\"./dataset/gossipcop_fake.csv\", usecols = ['title'])\r\n",
    "df4 = pd.read_csv(\"./dataset/politifact_fake.csv\", usecols = ['title'])"
   ],
   "outputs": [],
   "metadata": {}
  },
  {
   "cell_type": "code",
   "execution_count": 3,
   "source": [
    "# Combine real and fake data into separate datasets\r\n",
    "df_real = pd.concat([df1, df2], axis=0)\r\n",
    "df_fake = pd.concat([df3, df4], axis=0)"
   ],
   "outputs": [],
   "metadata": {}
  },
  {
   "cell_type": "code",
   "execution_count": 4,
   "source": [
    "# Check for empty and NA values\r\n",
    "df_real[df_real.loc[:,:] == ' '] = np.NaN\r\n",
    "print(df_real.isna().sum())\r\n",
    "df_fake[df_fake.loc[:,:] == ' '] = np.NaN\r\n",
    "print(df_fake.isna().sum())"
   ],
   "outputs": [
    {
     "output_type": "stream",
     "name": "stdout",
     "text": [
      "title    0\n",
      "dtype: int64\n",
      "title    0\n",
      "dtype: int64\n"
     ]
    }
   ],
   "metadata": {}
  },
  {
   "cell_type": "code",
   "execution_count": 5,
   "source": [
    "# Remove sentences having less than 5 words\r\n",
    "df_real = df_real[~df_real.title.str.count('\\s+').lt(4)]\r\n",
    "\r\n",
    "# Add label column for real news\r\n",
    "df_real['label'] = 0\r\n",
    "df_real"
   ],
   "outputs": [
    {
     "output_type": "execute_result",
     "data": {
      "text/plain": [
       "                                                 title  label\n",
       "0    Teen Mom Star Jenelle Evans' Wedding Dress Is ...      0\n",
       "1    Kylie Jenner refusing to discuss Tyga on Life ...      0\n",
       "3    I Tried Kim Kardashian's Butt Workout & Am For...      0\n",
       "4    Celine Dion donates concert proceeds to Vegas ...      0\n",
       "5    Chris Evans, Millie Bobby Brown, Snoop Dogg an...      0\n",
       "..                                                 ...    ...\n",
       "618  Trump asking Congress, not Mexico, to pay for ...      0\n",
       "619  Flake: “Religious tests should have no place i...      0\n",
       "620                           Change We Can Believe In      0\n",
       "621  deputy director of national health statistics ...      0\n",
       "622  Romneys ProLife Conversion Myth or Reality Jun...      0\n",
       "\n",
       "[16460 rows x 2 columns]"
      ],
      "text/html": [
       "<div>\n",
       "<style scoped>\n",
       "    .dataframe tbody tr th:only-of-type {\n",
       "        vertical-align: middle;\n",
       "    }\n",
       "\n",
       "    .dataframe tbody tr th {\n",
       "        vertical-align: top;\n",
       "    }\n",
       "\n",
       "    .dataframe thead th {\n",
       "        text-align: right;\n",
       "    }\n",
       "</style>\n",
       "<table border=\"1\" class=\"dataframe\">\n",
       "  <thead>\n",
       "    <tr style=\"text-align: right;\">\n",
       "      <th></th>\n",
       "      <th>title</th>\n",
       "      <th>label</th>\n",
       "    </tr>\n",
       "  </thead>\n",
       "  <tbody>\n",
       "    <tr>\n",
       "      <th>0</th>\n",
       "      <td>Teen Mom Star Jenelle Evans' Wedding Dress Is ...</td>\n",
       "      <td>0</td>\n",
       "    </tr>\n",
       "    <tr>\n",
       "      <th>1</th>\n",
       "      <td>Kylie Jenner refusing to discuss Tyga on Life ...</td>\n",
       "      <td>0</td>\n",
       "    </tr>\n",
       "    <tr>\n",
       "      <th>3</th>\n",
       "      <td>I Tried Kim Kardashian's Butt Workout &amp; Am For...</td>\n",
       "      <td>0</td>\n",
       "    </tr>\n",
       "    <tr>\n",
       "      <th>4</th>\n",
       "      <td>Celine Dion donates concert proceeds to Vegas ...</td>\n",
       "      <td>0</td>\n",
       "    </tr>\n",
       "    <tr>\n",
       "      <th>5</th>\n",
       "      <td>Chris Evans, Millie Bobby Brown, Snoop Dogg an...</td>\n",
       "      <td>0</td>\n",
       "    </tr>\n",
       "    <tr>\n",
       "      <th>...</th>\n",
       "      <td>...</td>\n",
       "      <td>...</td>\n",
       "    </tr>\n",
       "    <tr>\n",
       "      <th>618</th>\n",
       "      <td>Trump asking Congress, not Mexico, to pay for ...</td>\n",
       "      <td>0</td>\n",
       "    </tr>\n",
       "    <tr>\n",
       "      <th>619</th>\n",
       "      <td>Flake: “Religious tests should have no place i...</td>\n",
       "      <td>0</td>\n",
       "    </tr>\n",
       "    <tr>\n",
       "      <th>620</th>\n",
       "      <td>Change We Can Believe In</td>\n",
       "      <td>0</td>\n",
       "    </tr>\n",
       "    <tr>\n",
       "      <th>621</th>\n",
       "      <td>deputy director of national health statistics ...</td>\n",
       "      <td>0</td>\n",
       "    </tr>\n",
       "    <tr>\n",
       "      <th>622</th>\n",
       "      <td>Romneys ProLife Conversion Myth or Reality Jun...</td>\n",
       "      <td>0</td>\n",
       "    </tr>\n",
       "  </tbody>\n",
       "</table>\n",
       "<p>16460 rows × 2 columns</p>\n",
       "</div>"
      ]
     },
     "metadata": {},
     "execution_count": 5
    }
   ],
   "metadata": {}
  },
  {
   "cell_type": "code",
   "execution_count": 6,
   "source": [
    "# Remove sentences having less than 5 words\r\n",
    "df_fake = df_fake[~df_fake.title.str.count('\\s+').lt(4)]\r\n",
    "\r\n",
    "# Add label column for fake news\r\n",
    "df_fake['label'] = 1\r\n",
    "df_fake"
   ],
   "outputs": [
    {
     "output_type": "execute_result",
     "data": {
      "text/plain": [
       "                                                 title  label\n",
       "0    Did Miley Cyrus and Liam Hemsworth secretly ge...      1\n",
       "1    Paris Jackson & Cara Delevingne Enjoy Night Ou...      1\n",
       "2    Celebrities Join Tax March in Protest of Donal...      1\n",
       "3    Cindy Crawford's daughter Kaia Gerber wears a ...      1\n",
       "4        Full List of 2018 Oscar Nominations – Variety      1\n",
       "..                                                 ...    ...\n",
       "426  BUSTED: Russian Mansions Obama Seized Were Mea...      1\n",
       "427        Who is affected by the government shutdown?      1\n",
       "428  Lindsey Graham Threatens To Convert To Democra...      1\n",
       "429  ELECTORAL COLLEGE ELECTOR COMMITS SUICIDE TO A...      1\n",
       "430  Sarah Palin Calls To Boycott Mall Of America B...      1\n",
       "\n",
       "[5433 rows x 2 columns]"
      ],
      "text/html": [
       "<div>\n",
       "<style scoped>\n",
       "    .dataframe tbody tr th:only-of-type {\n",
       "        vertical-align: middle;\n",
       "    }\n",
       "\n",
       "    .dataframe tbody tr th {\n",
       "        vertical-align: top;\n",
       "    }\n",
       "\n",
       "    .dataframe thead th {\n",
       "        text-align: right;\n",
       "    }\n",
       "</style>\n",
       "<table border=\"1\" class=\"dataframe\">\n",
       "  <thead>\n",
       "    <tr style=\"text-align: right;\">\n",
       "      <th></th>\n",
       "      <th>title</th>\n",
       "      <th>label</th>\n",
       "    </tr>\n",
       "  </thead>\n",
       "  <tbody>\n",
       "    <tr>\n",
       "      <th>0</th>\n",
       "      <td>Did Miley Cyrus and Liam Hemsworth secretly ge...</td>\n",
       "      <td>1</td>\n",
       "    </tr>\n",
       "    <tr>\n",
       "      <th>1</th>\n",
       "      <td>Paris Jackson &amp; Cara Delevingne Enjoy Night Ou...</td>\n",
       "      <td>1</td>\n",
       "    </tr>\n",
       "    <tr>\n",
       "      <th>2</th>\n",
       "      <td>Celebrities Join Tax March in Protest of Donal...</td>\n",
       "      <td>1</td>\n",
       "    </tr>\n",
       "    <tr>\n",
       "      <th>3</th>\n",
       "      <td>Cindy Crawford's daughter Kaia Gerber wears a ...</td>\n",
       "      <td>1</td>\n",
       "    </tr>\n",
       "    <tr>\n",
       "      <th>4</th>\n",
       "      <td>Full List of 2018 Oscar Nominations – Variety</td>\n",
       "      <td>1</td>\n",
       "    </tr>\n",
       "    <tr>\n",
       "      <th>...</th>\n",
       "      <td>...</td>\n",
       "      <td>...</td>\n",
       "    </tr>\n",
       "    <tr>\n",
       "      <th>426</th>\n",
       "      <td>BUSTED: Russian Mansions Obama Seized Were Mea...</td>\n",
       "      <td>1</td>\n",
       "    </tr>\n",
       "    <tr>\n",
       "      <th>427</th>\n",
       "      <td>Who is affected by the government shutdown?</td>\n",
       "      <td>1</td>\n",
       "    </tr>\n",
       "    <tr>\n",
       "      <th>428</th>\n",
       "      <td>Lindsey Graham Threatens To Convert To Democra...</td>\n",
       "      <td>1</td>\n",
       "    </tr>\n",
       "    <tr>\n",
       "      <th>429</th>\n",
       "      <td>ELECTORAL COLLEGE ELECTOR COMMITS SUICIDE TO A...</td>\n",
       "      <td>1</td>\n",
       "    </tr>\n",
       "    <tr>\n",
       "      <th>430</th>\n",
       "      <td>Sarah Palin Calls To Boycott Mall Of America B...</td>\n",
       "      <td>1</td>\n",
       "    </tr>\n",
       "  </tbody>\n",
       "</table>\n",
       "<p>5433 rows × 2 columns</p>\n",
       "</div>"
      ]
     },
     "metadata": {},
     "execution_count": 6
    }
   ],
   "metadata": {}
  },
  {
   "cell_type": "code",
   "execution_count": 7,
   "source": [
    "# Combine both the real and fake news dataset\r\n",
    "df = pd.concat([df_real, df_fake])\r\n",
    "\r\n",
    "# Shuffle the final dataset\r\n",
    "df = df.sample(frac=1)\r\n",
    "df"
   ],
   "outputs": [
    {
     "output_type": "execute_result",
     "data": {
      "text/plain": [
       "                                                   title  label\n",
       "4232   Jennifer Aniston Justin Theroux Explosive Show...      1\n",
       "11672  Andy Samberg wants celeb fans to guest star on...      0\n",
       "12191  'Young and the Restless' actor Corey Sligh con...      0\n",
       "2731   Brad Pitt & Neri Oxman: Amal Clooney Reportedl...      1\n",
       "2579   Kanye West Is Reportedly Heading For Another B...      1\n",
       "...                                                  ...    ...\n",
       "4115   Kim Kardashian Says Her Waist Is 24 Inches—And...      0\n",
       "7118   Serena Williams' Royal Wedding Reception Look ...      0\n",
       "12388  Why Lisa Vanderpump Won’t Officiate Jax Taylor...      0\n",
       "9790            Best Style Moments From the 2018 Grammys      0\n",
       "1259   Lin-Manuel Miranda Talks 'Almost Like Praying'...      1\n",
       "\n",
       "[21893 rows x 2 columns]"
      ],
      "text/html": [
       "<div>\n",
       "<style scoped>\n",
       "    .dataframe tbody tr th:only-of-type {\n",
       "        vertical-align: middle;\n",
       "    }\n",
       "\n",
       "    .dataframe tbody tr th {\n",
       "        vertical-align: top;\n",
       "    }\n",
       "\n",
       "    .dataframe thead th {\n",
       "        text-align: right;\n",
       "    }\n",
       "</style>\n",
       "<table border=\"1\" class=\"dataframe\">\n",
       "  <thead>\n",
       "    <tr style=\"text-align: right;\">\n",
       "      <th></th>\n",
       "      <th>title</th>\n",
       "      <th>label</th>\n",
       "    </tr>\n",
       "  </thead>\n",
       "  <tbody>\n",
       "    <tr>\n",
       "      <th>4232</th>\n",
       "      <td>Jennifer Aniston Justin Theroux Explosive Show...</td>\n",
       "      <td>1</td>\n",
       "    </tr>\n",
       "    <tr>\n",
       "      <th>11672</th>\n",
       "      <td>Andy Samberg wants celeb fans to guest star on...</td>\n",
       "      <td>0</td>\n",
       "    </tr>\n",
       "    <tr>\n",
       "      <th>12191</th>\n",
       "      <td>'Young and the Restless' actor Corey Sligh con...</td>\n",
       "      <td>0</td>\n",
       "    </tr>\n",
       "    <tr>\n",
       "      <th>2731</th>\n",
       "      <td>Brad Pitt &amp; Neri Oxman: Amal Clooney Reportedl...</td>\n",
       "      <td>1</td>\n",
       "    </tr>\n",
       "    <tr>\n",
       "      <th>2579</th>\n",
       "      <td>Kanye West Is Reportedly Heading For Another B...</td>\n",
       "      <td>1</td>\n",
       "    </tr>\n",
       "    <tr>\n",
       "      <th>...</th>\n",
       "      <td>...</td>\n",
       "      <td>...</td>\n",
       "    </tr>\n",
       "    <tr>\n",
       "      <th>4115</th>\n",
       "      <td>Kim Kardashian Says Her Waist Is 24 Inches—And...</td>\n",
       "      <td>0</td>\n",
       "    </tr>\n",
       "    <tr>\n",
       "      <th>7118</th>\n",
       "      <td>Serena Williams' Royal Wedding Reception Look ...</td>\n",
       "      <td>0</td>\n",
       "    </tr>\n",
       "    <tr>\n",
       "      <th>12388</th>\n",
       "      <td>Why Lisa Vanderpump Won’t Officiate Jax Taylor...</td>\n",
       "      <td>0</td>\n",
       "    </tr>\n",
       "    <tr>\n",
       "      <th>9790</th>\n",
       "      <td>Best Style Moments From the 2018 Grammys</td>\n",
       "      <td>0</td>\n",
       "    </tr>\n",
       "    <tr>\n",
       "      <th>1259</th>\n",
       "      <td>Lin-Manuel Miranda Talks 'Almost Like Praying'...</td>\n",
       "      <td>1</td>\n",
       "    </tr>\n",
       "  </tbody>\n",
       "</table>\n",
       "<p>21893 rows × 2 columns</p>\n",
       "</div>"
      ]
     },
     "metadata": {},
     "execution_count": 7
    }
   ],
   "metadata": {}
  },
  {
   "cell_type": "code",
   "execution_count": 8,
   "source": [
    "# Count the distinct label values\r\n",
    "df.label.value_counts()"
   ],
   "outputs": [
    {
     "output_type": "execute_result",
     "data": {
      "text/plain": [
       "0    16460\n",
       "1     5433\n",
       "Name: label, dtype: int64"
      ]
     },
     "metadata": {},
     "execution_count": 8
    }
   ],
   "metadata": {}
  },
  {
   "cell_type": "code",
   "execution_count": 9,
   "source": [
    "# Download stop words\r\n",
    "nltk.download('stopwords')"
   ],
   "outputs": [
    {
     "output_type": "stream",
     "name": "stderr",
     "text": [
      "[nltk_data] Downloading package stopwords to\n",
      "[nltk_data]     C:\\Users\\Lenovo\\AppData\\Roaming\\nltk_data...\n",
      "[nltk_data]   Package stopwords is already up-to-date!\n"
     ]
    },
    {
     "output_type": "execute_result",
     "data": {
      "text/plain": [
       "True"
      ]
     },
     "metadata": {},
     "execution_count": 9
    }
   ],
   "metadata": {}
  },
  {
   "cell_type": "code",
   "execution_count": 10,
   "source": [
    "# Download WordNet (lexical database for English language)\r\n",
    "nltk.download('wordnet')"
   ],
   "outputs": [
    {
     "output_type": "stream",
     "name": "stderr",
     "text": [
      "[nltk_data] Downloading package wordnet to\n",
      "[nltk_data]     C:\\Users\\Lenovo\\AppData\\Roaming\\nltk_data...\n",
      "[nltk_data]   Package wordnet is already up-to-date!\n"
     ]
    },
    {
     "output_type": "execute_result",
     "data": {
      "text/plain": [
       "True"
      ]
     },
     "metadata": {},
     "execution_count": 10
    }
   ],
   "metadata": {}
  },
  {
   "cell_type": "code",
   "execution_count": 11,
   "source": [
    "# Text preprocessing\r\n",
    "def preprocessing(tweet):\r\n",
    "  text = BeautifulSoup(tweet).get_text() # Remove HTML tags\r\n",
    "  text = re.sub(\"[^a-zA-Z#]\", \" \", text) # Remove special characters\r\n",
    "  text = re.sub('((www.[^s]+)|(https?://[^s]+))',' ', text) # Remove URLs\r\n",
    "  text = text.lower().split() # Convert to lowercase and split each word\r\n",
    "\r\n",
    "  stop_w = set(stopwords.words(\"english\")) # Use a set instead of list for faster searching\r\n",
    "  text = [w for w in text if not w in stop_w] # Remove stop words\r\n",
    "  text = [WordNetLemmatizer().lemmatize(w) for w in text] # Lemmatization\r\n",
    "\r\n",
    "  return (\" \".join(text)) # Return the words after joining each word separated by space"
   ],
   "outputs": [],
   "metadata": {}
  },
  {
   "cell_type": "code",
   "execution_count": 12,
   "source": [
    "# Clean the textual data\r\n",
    "df['title'] = df['title'].apply(lambda text: preprocessing(text))\r\n",
    "df['title'].head()"
   ],
   "outputs": [
    {
     "output_type": "execute_result",
     "data": {
      "text/plain": [
       "4232     jennifer aniston justin theroux explosive show...\n",
       "11672    andy samberg want celeb fan guest star brookly...\n",
       "12191    young restless actor corey sligh convicted chi...\n",
       "2731     brad pitt neri oxman amal clooney reportedly i...\n",
       "2579     kanye west reportedly heading another breakdow...\n",
       "Name: title, dtype: object"
      ]
     },
     "metadata": {},
     "execution_count": 12
    }
   ],
   "metadata": {}
  },
  {
   "cell_type": "code",
   "execution_count": 13,
   "source": [
    "# Split into train and test sets\r\n",
    "train, test = train_test_split(df, test_size = 0.2, stratify = df['label'], random_state = 42)\r\n",
    "\r\n",
    "# Get the shape of datasets after splitting\r\n",
    "train.shape, test.shape"
   ],
   "outputs": [
    {
     "output_type": "execute_result",
     "data": {
      "text/plain": [
       "((17514, 2), (4379, 2))"
      ]
     },
     "metadata": {},
     "execution_count": 13
    }
   ],
   "metadata": {}
  },
  {
   "cell_type": "code",
   "execution_count": 14,
   "source": [
    "# Create a TF-IDF vectorizer object\r\n",
    "tfidf_vec = TfidfVectorizer(max_features=10000, ngram_range=(1, 3))\r\n",
    "\r\n",
    "# Data fitting and transformation\r\n",
    "train_df = tfidf_vec.fit_transform(train.title)\r\n",
    "test_df  = tfidf_vec.transform(test.title)"
   ],
   "outputs": [],
   "metadata": {}
  },
  {
   "cell_type": "code",
   "execution_count": 15,
   "source": [
    "# Before over-sampling the minority class\r\n",
    "train['label'].value_counts()"
   ],
   "outputs": [
    {
     "output_type": "execute_result",
     "data": {
      "text/plain": [
       "0    13168\n",
       "1     4346\n",
       "Name: label, dtype: int64"
      ]
     },
     "metadata": {},
     "execution_count": 15
    }
   ],
   "metadata": {}
  },
  {
   "cell_type": "code",
   "execution_count": 16,
   "source": [
    "# Use SMOTE (Synthetic Minority Oversampling Technique) for dealing with class imbalance\r\n",
    "smt = SMOTE(random_state = 18, sampling_strategy = 1.0)\r\n",
    "smt_xtrain_df, smt_ytrain = smt.fit_resample(train_df, train.label)"
   ],
   "outputs": [],
   "metadata": {}
  },
  {
   "cell_type": "code",
   "execution_count": 17,
   "source": [
    "# After over-sampling the minority class\r\n",
    "smt_ytrain.value_counts()"
   ],
   "outputs": [
    {
     "output_type": "execute_result",
     "data": {
      "text/plain": [
       "0    13168\n",
       "1    13168\n",
       "Name: label, dtype: int64"
      ]
     },
     "metadata": {},
     "execution_count": 17
    }
   ],
   "metadata": {}
  },
  {
   "cell_type": "code",
   "execution_count": 18,
   "source": [
    "# Model 1 - Logistic Regressor\r\n",
    "logis_reg = LogisticRegression()\r\n",
    "logis_reg.fit(smt_xtrain_df, smt_ytrain)\r\n",
    "\r\n",
    "y_pred = logis_reg.predict(test_df)\r\n",
    "\r\n",
    "# Evaluation metrics\r\n",
    "print(classification_report(test.label, y_pred, target_names=['Negative', 'Positive']))"
   ],
   "outputs": [
    {
     "output_type": "stream",
     "name": "stdout",
     "text": [
      "              precision    recall  f1-score   support\n",
      "\n",
      "    Negative       0.91      0.85      0.88      3292\n",
      "    Positive       0.63      0.75      0.68      1087\n",
      "\n",
      "    accuracy                           0.83      4379\n",
      "   macro avg       0.77      0.80      0.78      4379\n",
      "weighted avg       0.84      0.83      0.83      4379\n",
      "\n"
     ]
    }
   ],
   "metadata": {}
  },
  {
   "cell_type": "code",
   "execution_count": 19,
   "source": [
    "# Model 2 - Linear Support Vector Classifier\r\n",
    "linear_svc = LinearSVC()\r\n",
    "linear_svc.fit(smt_xtrain_df, smt_ytrain)\r\n",
    "\r\n",
    "y_pred = linear_svc.predict(test_df)\r\n",
    "\r\n",
    "# Evaluation metrics\r\n",
    "print(classification_report(test.label, y_pred, target_names=['Negative', 'Positive']))"
   ],
   "outputs": [
    {
     "output_type": "stream",
     "name": "stdout",
     "text": [
      "              precision    recall  f1-score   support\n",
      "\n",
      "    Negative       0.90      0.85      0.87      3292\n",
      "    Positive       0.61      0.71      0.65      1087\n",
      "\n",
      "    accuracy                           0.81      4379\n",
      "   macro avg       0.75      0.78      0.76      4379\n",
      "weighted avg       0.83      0.81      0.82      4379\n",
      "\n"
     ]
    }
   ],
   "metadata": {}
  },
  {
   "cell_type": "code",
   "execution_count": 20,
   "source": [
    "# Define the steps of the pipeline\r\n",
    "pipeline = imbpipeline(steps = [['tfidf', TfidfVectorizer(max_features=10000, ngram_range=(1, 3))],\r\n",
    "                                ['smote', SMOTE(random_state = 18, sampling_strategy = 1.0)],\r\n",
    "                                ['classifier', LogisticRegression()]])\r\n",
    "\r\n",
    "# Fit the pipeline model with the training data                            \r\n",
    "pipeline.fit(train.title, train.label)"
   ],
   "outputs": [
    {
     "output_type": "execute_result",
     "data": {
      "text/plain": [
       "Pipeline(steps=[('tfidf',\n",
       "                 TfidfVectorizer(max_features=10000, ngram_range=(1, 3))),\n",
       "                ('smote', SMOTE(random_state=18, sampling_strategy=1.0)),\n",
       "                ['classifier', LogisticRegression()]])"
      ]
     },
     "metadata": {},
     "execution_count": 20
    }
   ],
   "metadata": {}
  },
  {
   "cell_type": "code",
   "execution_count": 21,
   "source": [
    "# Predict the label using the pipeline\r\n",
    "check = pipeline.predict(['BREAKING: FIFA Declares Bankruptcy Over Lack Of Sponsorships'])\r\n",
    "\r\n",
    "out = \"Possible Fake News\" if check==1 else \"Possible Real News\"\r\n",
    "print(out)"
   ],
   "outputs": [
    {
     "output_type": "stream",
     "name": "stdout",
     "text": [
      "Possible Fake News\n"
     ]
    }
   ],
   "metadata": {}
  },
  {
   "cell_type": "code",
   "execution_count": 22,
   "source": [
    "# Dump the pipeline model\r\n",
    "dump(pipeline, filename = \"fake_news_classification.joblib\")"
   ],
   "outputs": [
    {
     "output_type": "execute_result",
     "data": {
      "text/plain": [
       "['fake_news_classification.joblib']"
      ]
     },
     "metadata": {},
     "execution_count": 22
    }
   ],
   "metadata": {}
  }
 ]
}