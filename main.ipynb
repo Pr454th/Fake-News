{
 "metadata": {
  "language_info": {
   "codemirror_mode": {
    "name": "ipython",
    "version": 3
   },
   "file_extension": ".py",
   "mimetype": "text/x-python",
   "name": "python",
   "nbconvert_exporter": "python",
   "pygments_lexer": "ipython3",
   "version": "3.8.5"
  },
  "orig_nbformat": 4,
  "kernelspec": {
   "name": "python3",
   "display_name": "Python 3.8.5 64-bit"
  },
  "interpreter": {
   "hash": "0a67b383376bbc3f268150e8a766376259116456469e7f7cea52e2e925b8a72d"
  }
 },
 "nbformat": 4,
 "nbformat_minor": 2,
 "cells": [
  {
   "cell_type": "code",
   "execution_count": 33,
   "metadata": {},
   "outputs": [],
   "source": [
    "import pandas as pd\n",
    "import numpy as np\n",
    "\n",
    "from sklearn.feature_extraction.text import ENGLISH_STOP_WORDS, TfidfVectorizer\n",
    "from sklearn.linear_model import LogisticRegression\n",
    "from sklearn.pipeline import Pipeline\n",
    "from sklearn.metrics import f1_score\n",
    "from sklearn.model_selection import train_test_split\n",
    "\n",
    "from joblib import dump"
   ]
  },
  {
   "cell_type": "code",
   "execution_count": 2,
   "metadata": {},
   "outputs": [],
   "source": [
    "# Read all the datasets\n",
    "df1 = pd.read_csv(\"./dataset/gossipcop_real.csv\", usecols = ['title'])\n",
    "df2 = pd.read_csv(\"./dataset/politifact_real.csv\", usecols = ['title'])\n",
    "df3 = pd.read_csv(\"./dataset/gossipcop_fake.csv\", usecols = ['title'])\n",
    "df4 = pd.read_csv(\"./dataset/politifact_fake.csv\", usecols = ['title'])"
   ]
  },
  {
   "cell_type": "code",
   "execution_count": 3,
   "metadata": {},
   "outputs": [],
   "source": [
    "# Combine real and fake data into separate datasets\n",
    "df_real = pd.concat([df1, df2], axis=0)\n",
    "df_fake = pd.concat([df3, df4], axis=0)"
   ]
  },
  {
   "cell_type": "code",
   "execution_count": 4,
   "metadata": {},
   "outputs": [
    {
     "output_type": "stream",
     "name": "stdout",
     "text": [
      "title    0\ndtype: int64\ntitle    0\ndtype: int64\n"
     ]
    }
   ],
   "source": [
    "# Check for empty and NA values\n",
    "df_real[df_real.loc[:,:] == ' '] = np.NaN\n",
    "print(df_real.isna().sum())\n",
    "df_fake[df_fake.loc[:,:] == ' '] = np.NaN\n",
    "print(df_fake.isna().sum())"
   ]
  },
  {
   "cell_type": "code",
   "execution_count": 5,
   "metadata": {},
   "outputs": [
    {
     "output_type": "stream",
     "name": "stdout",
     "text": [
      "17441\n5755\n"
     ]
    }
   ],
   "source": [
    "# Print the length of both the datasets\n",
    "print(len(df_real))\n",
    "print(len(df_fake))"
   ]
  },
  {
   "cell_type": "code",
   "execution_count": 6,
   "metadata": {},
   "outputs": [
    {
     "output_type": "execute_result",
     "data": {
      "text/plain": [
       "                                                 title  label\n",
       "0    Teen Mom Star Jenelle Evans' Wedding Dress Is ...      0\n",
       "1    Kylie Jenner refusing to discuss Tyga on Life ...      0\n",
       "3    I Tried Kim Kardashian's Butt Workout & Am For...      0\n",
       "4    Celine Dion donates concert proceeds to Vegas ...      0\n",
       "5    Chris Evans, Millie Bobby Brown, Snoop Dogg an...      0\n",
       "..                                                 ...    ...\n",
       "618  Trump asking Congress, not Mexico, to pay for ...      0\n",
       "619  Flake: “Religious tests should have no place i...      0\n",
       "620                           Change We Can Believe In      0\n",
       "621  deputy director of national health statistics ...      0\n",
       "622  Romneys ProLife Conversion Myth or Reality Jun...      0\n",
       "\n",
       "[16460 rows x 2 columns]"
      ],
      "text/html": "<div>\n<style scoped>\n    .dataframe tbody tr th:only-of-type {\n        vertical-align: middle;\n    }\n\n    .dataframe tbody tr th {\n        vertical-align: top;\n    }\n\n    .dataframe thead th {\n        text-align: right;\n    }\n</style>\n<table border=\"1\" class=\"dataframe\">\n  <thead>\n    <tr style=\"text-align: right;\">\n      <th></th>\n      <th>title</th>\n      <th>label</th>\n    </tr>\n  </thead>\n  <tbody>\n    <tr>\n      <th>0</th>\n      <td>Teen Mom Star Jenelle Evans' Wedding Dress Is ...</td>\n      <td>0</td>\n    </tr>\n    <tr>\n      <th>1</th>\n      <td>Kylie Jenner refusing to discuss Tyga on Life ...</td>\n      <td>0</td>\n    </tr>\n    <tr>\n      <th>3</th>\n      <td>I Tried Kim Kardashian's Butt Workout &amp; Am For...</td>\n      <td>0</td>\n    </tr>\n    <tr>\n      <th>4</th>\n      <td>Celine Dion donates concert proceeds to Vegas ...</td>\n      <td>0</td>\n    </tr>\n    <tr>\n      <th>5</th>\n      <td>Chris Evans, Millie Bobby Brown, Snoop Dogg an...</td>\n      <td>0</td>\n    </tr>\n    <tr>\n      <th>...</th>\n      <td>...</td>\n      <td>...</td>\n    </tr>\n    <tr>\n      <th>618</th>\n      <td>Trump asking Congress, not Mexico, to pay for ...</td>\n      <td>0</td>\n    </tr>\n    <tr>\n      <th>619</th>\n      <td>Flake: “Religious tests should have no place i...</td>\n      <td>0</td>\n    </tr>\n    <tr>\n      <th>620</th>\n      <td>Change We Can Believe In</td>\n      <td>0</td>\n    </tr>\n    <tr>\n      <th>621</th>\n      <td>deputy director of national health statistics ...</td>\n      <td>0</td>\n    </tr>\n    <tr>\n      <th>622</th>\n      <td>Romneys ProLife Conversion Myth or Reality Jun...</td>\n      <td>0</td>\n    </tr>\n  </tbody>\n</table>\n<p>16460 rows × 2 columns</p>\n</div>"
     },
     "metadata": {},
     "execution_count": 6
    }
   ],
   "source": [
    "# Remove sentences having less than 5 words\n",
    "df_real = df_real[~df_real.title.str.count('\\s+').lt(4)]\n",
    "\n",
    "# Add label column for real news\n",
    "df_real['label'] = 0\n",
    "df_real"
   ]
  },
  {
   "cell_type": "code",
   "execution_count": 7,
   "metadata": {},
   "outputs": [
    {
     "output_type": "execute_result",
     "data": {
      "text/plain": [
       "                                                 title  label\n",
       "0    Did Miley Cyrus and Liam Hemsworth secretly ge...      1\n",
       "1    Paris Jackson & Cara Delevingne Enjoy Night Ou...      1\n",
       "2    Celebrities Join Tax March in Protest of Donal...      1\n",
       "3    Cindy Crawford's daughter Kaia Gerber wears a ...      1\n",
       "4        Full List of 2018 Oscar Nominations – Variety      1\n",
       "..                                                 ...    ...\n",
       "426  BUSTED: Russian Mansions Obama Seized Were Mea...      1\n",
       "427        Who is affected by the government shutdown?      1\n",
       "428  Lindsey Graham Threatens To Convert To Democra...      1\n",
       "429  ELECTORAL COLLEGE ELECTOR COMMITS SUICIDE TO A...      1\n",
       "430  Sarah Palin Calls To Boycott Mall Of America B...      1\n",
       "\n",
       "[5433 rows x 2 columns]"
      ],
      "text/html": "<div>\n<style scoped>\n    .dataframe tbody tr th:only-of-type {\n        vertical-align: middle;\n    }\n\n    .dataframe tbody tr th {\n        vertical-align: top;\n    }\n\n    .dataframe thead th {\n        text-align: right;\n    }\n</style>\n<table border=\"1\" class=\"dataframe\">\n  <thead>\n    <tr style=\"text-align: right;\">\n      <th></th>\n      <th>title</th>\n      <th>label</th>\n    </tr>\n  </thead>\n  <tbody>\n    <tr>\n      <th>0</th>\n      <td>Did Miley Cyrus and Liam Hemsworth secretly ge...</td>\n      <td>1</td>\n    </tr>\n    <tr>\n      <th>1</th>\n      <td>Paris Jackson &amp; Cara Delevingne Enjoy Night Ou...</td>\n      <td>1</td>\n    </tr>\n    <tr>\n      <th>2</th>\n      <td>Celebrities Join Tax March in Protest of Donal...</td>\n      <td>1</td>\n    </tr>\n    <tr>\n      <th>3</th>\n      <td>Cindy Crawford's daughter Kaia Gerber wears a ...</td>\n      <td>1</td>\n    </tr>\n    <tr>\n      <th>4</th>\n      <td>Full List of 2018 Oscar Nominations – Variety</td>\n      <td>1</td>\n    </tr>\n    <tr>\n      <th>...</th>\n      <td>...</td>\n      <td>...</td>\n    </tr>\n    <tr>\n      <th>426</th>\n      <td>BUSTED: Russian Mansions Obama Seized Were Mea...</td>\n      <td>1</td>\n    </tr>\n    <tr>\n      <th>427</th>\n      <td>Who is affected by the government shutdown?</td>\n      <td>1</td>\n    </tr>\n    <tr>\n      <th>428</th>\n      <td>Lindsey Graham Threatens To Convert To Democra...</td>\n      <td>1</td>\n    </tr>\n    <tr>\n      <th>429</th>\n      <td>ELECTORAL COLLEGE ELECTOR COMMITS SUICIDE TO A...</td>\n      <td>1</td>\n    </tr>\n    <tr>\n      <th>430</th>\n      <td>Sarah Palin Calls To Boycott Mall Of America B...</td>\n      <td>1</td>\n    </tr>\n  </tbody>\n</table>\n<p>5433 rows × 2 columns</p>\n</div>"
     },
     "metadata": {},
     "execution_count": 7
    }
   ],
   "source": [
    "# Remove sentences having less than 5 words\n",
    "df_fake = df_fake[~df_fake.title.str.count('\\s+').lt(4)]\n",
    "\n",
    "# Add label column for fake news\n",
    "df_fake['label'] = 1\n",
    "df_fake"
   ]
  },
  {
   "cell_type": "code",
   "execution_count": 8,
   "metadata": {},
   "outputs": [],
   "source": [
    "# TODO: Deal with class imbalance"
   ]
  },
  {
   "cell_type": "code",
   "execution_count": 9,
   "metadata": {},
   "outputs": [
    {
     "output_type": "execute_result",
     "data": {
      "text/plain": [
       "                                                   title  label\n",
       "4202   Rosie Huntington-Whiteley Is Pregnant in \"Mad ...      1\n",
       "16321  Margot Robbie Leads the Best Dressed Stars of ...      0\n",
       "245    Kanye West Admits He Was 'Hurt' When JAY-Z and...      1\n",
       "3469   Meghan Markle arrives fashionably late in Card...      0\n",
       "6449   Kim Kardashian Glitters in Gold as She Joins K...      0\n",
       "...                                                  ...    ...\n",
       "7995   Oprah Winfrey Reveals The Adorable Message She...      0\n",
       "243    Ellen DeGeneres beams as wife Portia de Rossi ...      1\n",
       "552                   The Democratic Debate in Cleveland      0\n",
       "2123   Justin Bieber's Mom Defends Him in Light of Di...      1\n",
       "10588  Here’s Exactly What You Missed in ‘Mission: Im...      0\n",
       "\n",
       "[21893 rows x 2 columns]"
      ],
      "text/html": "<div>\n<style scoped>\n    .dataframe tbody tr th:only-of-type {\n        vertical-align: middle;\n    }\n\n    .dataframe tbody tr th {\n        vertical-align: top;\n    }\n\n    .dataframe thead th {\n        text-align: right;\n    }\n</style>\n<table border=\"1\" class=\"dataframe\">\n  <thead>\n    <tr style=\"text-align: right;\">\n      <th></th>\n      <th>title</th>\n      <th>label</th>\n    </tr>\n  </thead>\n  <tbody>\n    <tr>\n      <th>4202</th>\n      <td>Rosie Huntington-Whiteley Is Pregnant in \"Mad ...</td>\n      <td>1</td>\n    </tr>\n    <tr>\n      <th>16321</th>\n      <td>Margot Robbie Leads the Best Dressed Stars of ...</td>\n      <td>0</td>\n    </tr>\n    <tr>\n      <th>245</th>\n      <td>Kanye West Admits He Was 'Hurt' When JAY-Z and...</td>\n      <td>1</td>\n    </tr>\n    <tr>\n      <th>3469</th>\n      <td>Meghan Markle arrives fashionably late in Card...</td>\n      <td>0</td>\n    </tr>\n    <tr>\n      <th>6449</th>\n      <td>Kim Kardashian Glitters in Gold as She Joins K...</td>\n      <td>0</td>\n    </tr>\n    <tr>\n      <th>...</th>\n      <td>...</td>\n      <td>...</td>\n    </tr>\n    <tr>\n      <th>7995</th>\n      <td>Oprah Winfrey Reveals The Adorable Message She...</td>\n      <td>0</td>\n    </tr>\n    <tr>\n      <th>243</th>\n      <td>Ellen DeGeneres beams as wife Portia de Rossi ...</td>\n      <td>1</td>\n    </tr>\n    <tr>\n      <th>552</th>\n      <td>The Democratic Debate in Cleveland</td>\n      <td>0</td>\n    </tr>\n    <tr>\n      <th>2123</th>\n      <td>Justin Bieber's Mom Defends Him in Light of Di...</td>\n      <td>1</td>\n    </tr>\n    <tr>\n      <th>10588</th>\n      <td>Here’s Exactly What You Missed in ‘Mission: Im...</td>\n      <td>0</td>\n    </tr>\n  </tbody>\n</table>\n<p>21893 rows × 2 columns</p>\n</div>"
     },
     "metadata": {},
     "execution_count": 9
    }
   ],
   "source": [
    "# Combine both real and fake news dataset\n",
    "df = pd.concat([df_real, df_fake])\n",
    "\n",
    "#Shuffle the final dataset\n",
    "df = df.sample(frac=1)\n",
    "df"
   ]
  },
  {
   "cell_type": "code",
   "execution_count": 11,
   "metadata": {},
   "outputs": [
    {
     "output_type": "execute_result",
     "data": {
      "text/plain": [
       "0    16460\n",
       "1     5433\n",
       "Name: label, dtype: int64"
      ]
     },
     "metadata": {},
     "execution_count": 11
    }
   ],
   "source": [
    "df.label.value_counts()"
   ]
  },
  {
   "cell_type": "code",
   "execution_count": 19,
   "metadata": {},
   "outputs": [],
   "source": [
    "train, test = train_test_split(df, test_size = 0.2, stratify = df['label'], random_state = 42)"
   ]
  },
  {
   "cell_type": "code",
   "execution_count": 20,
   "metadata": {},
   "outputs": [
    {
     "output_type": "execute_result",
     "data": {
      "text/plain": [
       "((17514, 2), (4379, 2))"
      ]
     },
     "metadata": {},
     "execution_count": 20
    }
   ],
   "source": [
    "train.shape, test.shape"
   ]
  },
  {
   "cell_type": "code",
   "execution_count": 21,
   "metadata": {},
   "outputs": [],
   "source": [
    "tfidf_vec = TfidfVectorizer(lowercase= True, max_features=1000, stop_words=ENGLISH_STOP_WORDS)\n",
    "\n",
    "train_df = tfidf_vec.fit_transform(train.title)\n",
    "test_df  = tfidf_vec.transform(test.title)"
   ]
  },
  {
   "cell_type": "code",
   "execution_count": 22,
   "metadata": {},
   "outputs": [],
   "source": [
    "# create the object of LinearRegression Model\n",
    "model = LogisticRegression()\n",
    "\n",
    "# fit the model with the training data\n",
    "model.fit(train_df, train.label)\n",
    "\n",
    "# predict the label on the traning data\n",
    "predict_train = model.predict(train_df)\n",
    "\n",
    "# predict the model on the test data\n",
    "predict_test = model.predict(test_df)"
   ]
  },
  {
   "cell_type": "code",
   "execution_count": 24,
   "metadata": {},
   "outputs": [
    {
     "output_type": "execute_result",
     "data": {
      "text/plain": [
       "0.613681521430599"
      ]
     },
     "metadata": {},
     "execution_count": 24
    }
   ],
   "source": [
    "# f1 score on train data\n",
    "f1_score(y_true = train.label, y_pred = predict_train)"
   ]
  },
  {
   "cell_type": "code",
   "execution_count": 25,
   "metadata": {},
   "outputs": [
    {
     "output_type": "execute_result",
     "data": {
      "text/plain": [
       "0.5674740484429066"
      ]
     },
     "metadata": {},
     "execution_count": 25
    }
   ],
   "source": [
    "# f1 score on test data\n",
    "f1_score(y_true = test.label, y_pred = predict_test)"
   ]
  },
  {
   "cell_type": "code",
   "execution_count": 27,
   "metadata": {},
   "outputs": [
    {
     "output_type": "execute_result",
     "data": {
      "text/plain": [
       "Pipeline(steps=[('tfidf',\n",
       "                 TfidfVectorizer(max_features=1000,\n",
       "                                 stop_words=frozenset({'a', 'about', 'above',\n",
       "                                                       'across', 'after',\n",
       "                                                       'afterwards', 'again',\n",
       "                                                       'against', 'all',\n",
       "                                                       'almost', 'alone',\n",
       "                                                       'along', 'already',\n",
       "                                                       'also', 'although',\n",
       "                                                       'always', 'am', 'among',\n",
       "                                                       'amongst', 'amoungst',\n",
       "                                                       'amount', 'an', 'and',\n",
       "                                                       'another', 'any',\n",
       "                                                       'anyhow', 'anyone',\n",
       "                                                       'anything', 'anyway',\n",
       "                                                       'anywhere', ...}))),\n",
       "                ('model', LogisticRegression())])"
      ]
     },
     "metadata": {},
     "execution_count": 27
    }
   ],
   "source": [
    "# define the stages of the pipeline\n",
    "pipeline = Pipeline(steps= [('tfidf', TfidfVectorizer(lowercase=True,\n",
    "                                                      max_features=1000,\n",
    "                                                      stop_words= ENGLISH_STOP_WORDS)),\n",
    "                            ('model', LogisticRegression())])\n",
    "\n",
    "# fit the pipeline model with the training data                            \n",
    "pipeline.fit(train.title, train.label)"
   ]
  },
  {
   "cell_type": "code",
   "execution_count": 32,
   "metadata": {},
   "outputs": [
    {
     "output_type": "execute_result",
     "data": {
      "text/plain": [
       "array([1], dtype=int64)"
      ]
     },
     "metadata": {},
     "execution_count": 32
    }
   ],
   "source": [
    "# predict the label using the pipeline\n",
    "pipeline.predict(['BREAKING: FIFA Declares Bankruptcy Over Kneeling Thugs'])"
   ]
  },
  {
   "cell_type": "code",
   "execution_count": 35,
   "metadata": {},
   "outputs": [
    {
     "output_type": "execute_result",
     "data": {
      "text/plain": [
       "['fake_news_classification.joblib']"
      ]
     },
     "metadata": {},
     "execution_count": 35
    }
   ],
   "source": [
    "dump(pipeline, filename = \"fake_news_classification.joblib\")"
   ]
  },
  {
   "cell_type": "code",
   "execution_count": null,
   "metadata": {},
   "outputs": [],
   "source": []
  }
 ]
}