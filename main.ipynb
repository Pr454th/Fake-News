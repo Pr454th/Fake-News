{
 "metadata": {
  "language_info": {
   "codemirror_mode": {
    "name": "ipython",
    "version": 3
   },
   "file_extension": ".py",
   "mimetype": "text/x-python",
   "name": "python",
   "nbconvert_exporter": "python",
   "pygments_lexer": "ipython3",
   "version": "3.8.5"
  },
  "orig_nbformat": 4,
  "kernelspec": {
   "name": "python3",
   "display_name": "Python 3.8.5 64-bit"
  },
  "interpreter": {
   "hash": "0a67b383376bbc3f268150e8a766376259116456469e7f7cea52e2e925b8a72d"
  }
 },
 "nbformat": 4,
 "nbformat_minor": 2,
 "cells": [
  {
   "cell_type": "code",
   "execution_count": 1,
   "metadata": {},
   "outputs": [],
   "source": [
    "import pandas as pd\n",
    "import numpy as np"
   ]
  },
  {
   "cell_type": "code",
   "execution_count": 2,
   "metadata": {},
   "outputs": [],
   "source": [
    "# Read all the datasets\n",
    "df1 = pd.read_csv(\"./dataset/gossipcop_real.csv\", usecols = ['title'])\n",
    "df2 = pd.read_csv(\"./dataset/politifact_real.csv\", usecols = ['title'])\n",
    "df3 = pd.read_csv(\"./dataset/gossipcop_fake.csv\", usecols = ['title'])\n",
    "df4 = pd.read_csv(\"./dataset/politifact_fake.csv\", usecols = ['title'])"
   ]
  },
  {
   "cell_type": "code",
   "execution_count": 3,
   "metadata": {},
   "outputs": [],
   "source": [
    "# Combine real and fake data into separate datasets\n",
    "df_real = pd.concat([df1, df2], axis=0)\n",
    "df_fake = pd.concat([df3, df4], axis=0)"
   ]
  },
  {
   "cell_type": "code",
   "execution_count": 4,
   "metadata": {},
   "outputs": [
    {
     "output_type": "stream",
     "name": "stdout",
     "text": [
      "title    0\ndtype: int64\ntitle    0\ndtype: int64\n"
     ]
    }
   ],
   "source": [
    "# Check for empty and NA values\n",
    "df_real[df_real.loc[:,:] == ' '] = np.NaN\n",
    "print(df_real.isna().sum())\n",
    "df_fake[df_fake.loc[:,:] == ' '] = np.NaN\n",
    "print(df_fake.isna().sum())"
   ]
  },
  {
   "cell_type": "code",
   "execution_count": 5,
   "metadata": {},
   "outputs": [
    {
     "output_type": "stream",
     "name": "stdout",
     "text": [
      "17441\n5755\n"
     ]
    }
   ],
   "source": [
    "# Print the length of both the datasets\n",
    "print(len(df_real))\n",
    "print(len(df_fake))"
   ]
  },
  {
   "cell_type": "code",
   "execution_count": 6,
   "metadata": {},
   "outputs": [
    {
     "output_type": "execute_result",
     "data": {
      "text/plain": [
       "                                                 title  label\n",
       "0    Teen Mom Star Jenelle Evans' Wedding Dress Is ...      0\n",
       "1    Kylie Jenner refusing to discuss Tyga on Life ...      0\n",
       "3    I Tried Kim Kardashian's Butt Workout & Am For...      0\n",
       "4    Celine Dion donates concert proceeds to Vegas ...      0\n",
       "5    Chris Evans, Millie Bobby Brown, Snoop Dogg an...      0\n",
       "..                                                 ...    ...\n",
       "617  The Obameter: Introduce a comprehensive immigr...      0\n",
       "618  Trump asking Congress, not Mexico, to pay for ...      0\n",
       "619  Flake: “Religious tests should have no place i...      0\n",
       "621  deputy director of national health statistics ...      0\n",
       "622  Romneys ProLife Conversion Myth or Reality Jun...      0\n",
       "\n",
       "[16159 rows x 2 columns]"
      ],
      "text/html": "<div>\n<style scoped>\n    .dataframe tbody tr th:only-of-type {\n        vertical-align: middle;\n    }\n\n    .dataframe tbody tr th {\n        vertical-align: top;\n    }\n\n    .dataframe thead th {\n        text-align: right;\n    }\n</style>\n<table border=\"1\" class=\"dataframe\">\n  <thead>\n    <tr style=\"text-align: right;\">\n      <th></th>\n      <th>title</th>\n      <th>label</th>\n    </tr>\n  </thead>\n  <tbody>\n    <tr>\n      <th>0</th>\n      <td>Teen Mom Star Jenelle Evans' Wedding Dress Is ...</td>\n      <td>0</td>\n    </tr>\n    <tr>\n      <th>1</th>\n      <td>Kylie Jenner refusing to discuss Tyga on Life ...</td>\n      <td>0</td>\n    </tr>\n    <tr>\n      <th>3</th>\n      <td>I Tried Kim Kardashian's Butt Workout &amp; Am For...</td>\n      <td>0</td>\n    </tr>\n    <tr>\n      <th>4</th>\n      <td>Celine Dion donates concert proceeds to Vegas ...</td>\n      <td>0</td>\n    </tr>\n    <tr>\n      <th>5</th>\n      <td>Chris Evans, Millie Bobby Brown, Snoop Dogg an...</td>\n      <td>0</td>\n    </tr>\n    <tr>\n      <th>...</th>\n      <td>...</td>\n      <td>...</td>\n    </tr>\n    <tr>\n      <th>617</th>\n      <td>The Obameter: Introduce a comprehensive immigr...</td>\n      <td>0</td>\n    </tr>\n    <tr>\n      <th>618</th>\n      <td>Trump asking Congress, not Mexico, to pay for ...</td>\n      <td>0</td>\n    </tr>\n    <tr>\n      <th>619</th>\n      <td>Flake: “Religious tests should have no place i...</td>\n      <td>0</td>\n    </tr>\n    <tr>\n      <th>621</th>\n      <td>deputy director of national health statistics ...</td>\n      <td>0</td>\n    </tr>\n    <tr>\n      <th>622</th>\n      <td>Romneys ProLife Conversion Myth or Reality Jun...</td>\n      <td>0</td>\n    </tr>\n  </tbody>\n</table>\n<p>16159 rows × 2 columns</p>\n</div>"
     },
     "metadata": {},
     "execution_count": 6
    }
   ],
   "source": [
    "# Remove sentences having less than 6 words\n",
    "df_real = df_real[~df_real.title.str.count('\\s+').lt(5)]\n",
    "\n",
    "# Add label column for real news\n",
    "df_real['label'] = 0\n",
    "df_real"
   ]
  },
  {
   "cell_type": "code",
   "execution_count": 7,
   "metadata": {},
   "outputs": [
    {
     "output_type": "execute_result",
     "data": {
      "text/plain": [
       "                                                 title  label\n",
       "0    Did Miley Cyrus and Liam Hemsworth secretly ge...      1\n",
       "1    Paris Jackson & Cara Delevingne Enjoy Night Ou...      1\n",
       "2    Celebrities Join Tax March in Protest of Donal...      1\n",
       "3    Cindy Crawford's daughter Kaia Gerber wears a ...      1\n",
       "4        Full List of 2018 Oscar Nominations – Variety      1\n",
       "..                                                 ...    ...\n",
       "426  BUSTED: Russian Mansions Obama Seized Were Mea...      1\n",
       "427        Who is affected by the government shutdown?      1\n",
       "428  Lindsey Graham Threatens To Convert To Democra...      1\n",
       "429  ELECTORAL COLLEGE ELECTOR COMMITS SUICIDE TO A...      1\n",
       "430  Sarah Palin Calls To Boycott Mall Of America B...      1\n",
       "\n",
       "[5286 rows x 2 columns]"
      ],
      "text/html": "<div>\n<style scoped>\n    .dataframe tbody tr th:only-of-type {\n        vertical-align: middle;\n    }\n\n    .dataframe tbody tr th {\n        vertical-align: top;\n    }\n\n    .dataframe thead th {\n        text-align: right;\n    }\n</style>\n<table border=\"1\" class=\"dataframe\">\n  <thead>\n    <tr style=\"text-align: right;\">\n      <th></th>\n      <th>title</th>\n      <th>label</th>\n    </tr>\n  </thead>\n  <tbody>\n    <tr>\n      <th>0</th>\n      <td>Did Miley Cyrus and Liam Hemsworth secretly ge...</td>\n      <td>1</td>\n    </tr>\n    <tr>\n      <th>1</th>\n      <td>Paris Jackson &amp; Cara Delevingne Enjoy Night Ou...</td>\n      <td>1</td>\n    </tr>\n    <tr>\n      <th>2</th>\n      <td>Celebrities Join Tax March in Protest of Donal...</td>\n      <td>1</td>\n    </tr>\n    <tr>\n      <th>3</th>\n      <td>Cindy Crawford's daughter Kaia Gerber wears a ...</td>\n      <td>1</td>\n    </tr>\n    <tr>\n      <th>4</th>\n      <td>Full List of 2018 Oscar Nominations – Variety</td>\n      <td>1</td>\n    </tr>\n    <tr>\n      <th>...</th>\n      <td>...</td>\n      <td>...</td>\n    </tr>\n    <tr>\n      <th>426</th>\n      <td>BUSTED: Russian Mansions Obama Seized Were Mea...</td>\n      <td>1</td>\n    </tr>\n    <tr>\n      <th>427</th>\n      <td>Who is affected by the government shutdown?</td>\n      <td>1</td>\n    </tr>\n    <tr>\n      <th>428</th>\n      <td>Lindsey Graham Threatens To Convert To Democra...</td>\n      <td>1</td>\n    </tr>\n    <tr>\n      <th>429</th>\n      <td>ELECTORAL COLLEGE ELECTOR COMMITS SUICIDE TO A...</td>\n      <td>1</td>\n    </tr>\n    <tr>\n      <th>430</th>\n      <td>Sarah Palin Calls To Boycott Mall Of America B...</td>\n      <td>1</td>\n    </tr>\n  </tbody>\n</table>\n<p>5286 rows × 2 columns</p>\n</div>"
     },
     "metadata": {},
     "execution_count": 7
    }
   ],
   "source": [
    "# Remove sentences having less than 6 words\n",
    "df_fake = df_fake[~df_fake.title.str.count('\\s+').lt(5)]\n",
    "\n",
    "# Add label column for fake news\n",
    "df_fake['label'] = 1\n",
    "df_fake"
   ]
  },
  {
   "cell_type": "code",
   "execution_count": 9,
   "metadata": {},
   "outputs": [],
   "source": [
    "# TODO: Deal with class imbalance"
   ]
  },
  {
   "cell_type": "code",
   "execution_count": 8,
   "metadata": {},
   "outputs": [
    {
     "output_type": "execute_result",
     "data": {
      "text/plain": [
       "                                                   title  label\n",
       "16607  Kim Richards Opens Up About What's Helping Her...      0\n",
       "2271   Corinne Olympios on 'Bachelor in Paradise' sca...      0\n",
       "95     BOMBSHELL: COMEY KNEW MURDERED DNC STAFFER, SE...      1\n",
       "7584   Andrew Garfield on His Sexuality: 'I Have an O...      0\n",
       "12349  Sia, Zoe Saldana and Julianne Moore Team Up to...      0\n",
       "...                                                  ...    ...\n",
       "11229          Kesha recalls battle with eating disorder      0\n",
       "8457   Justin Bieber Wants to Be With Selena Gomez Bu...      0\n",
       "1398   Blake Shelton Falls on Stage and It May Just B...      0\n",
       "5525         Abby Lee Miller May Get Out of Prison Early      0\n",
       "370    Below Deck Med Season 3 Trailer Promises Fires...      0\n",
       "\n",
       "[21445 rows x 2 columns]"
      ],
      "text/html": "<div>\n<style scoped>\n    .dataframe tbody tr th:only-of-type {\n        vertical-align: middle;\n    }\n\n    .dataframe tbody tr th {\n        vertical-align: top;\n    }\n\n    .dataframe thead th {\n        text-align: right;\n    }\n</style>\n<table border=\"1\" class=\"dataframe\">\n  <thead>\n    <tr style=\"text-align: right;\">\n      <th></th>\n      <th>title</th>\n      <th>label</th>\n    </tr>\n  </thead>\n  <tbody>\n    <tr>\n      <th>16607</th>\n      <td>Kim Richards Opens Up About What's Helping Her...</td>\n      <td>0</td>\n    </tr>\n    <tr>\n      <th>2271</th>\n      <td>Corinne Olympios on 'Bachelor in Paradise' sca...</td>\n      <td>0</td>\n    </tr>\n    <tr>\n      <th>95</th>\n      <td>BOMBSHELL: COMEY KNEW MURDERED DNC STAFFER, SE...</td>\n      <td>1</td>\n    </tr>\n    <tr>\n      <th>7584</th>\n      <td>Andrew Garfield on His Sexuality: 'I Have an O...</td>\n      <td>0</td>\n    </tr>\n    <tr>\n      <th>12349</th>\n      <td>Sia, Zoe Saldana and Julianne Moore Team Up to...</td>\n      <td>0</td>\n    </tr>\n    <tr>\n      <th>...</th>\n      <td>...</td>\n      <td>...</td>\n    </tr>\n    <tr>\n      <th>11229</th>\n      <td>Kesha recalls battle with eating disorder</td>\n      <td>0</td>\n    </tr>\n    <tr>\n      <th>8457</th>\n      <td>Justin Bieber Wants to Be With Selena Gomez Bu...</td>\n      <td>0</td>\n    </tr>\n    <tr>\n      <th>1398</th>\n      <td>Blake Shelton Falls on Stage and It May Just B...</td>\n      <td>0</td>\n    </tr>\n    <tr>\n      <th>5525</th>\n      <td>Abby Lee Miller May Get Out of Prison Early</td>\n      <td>0</td>\n    </tr>\n    <tr>\n      <th>370</th>\n      <td>Below Deck Med Season 3 Trailer Promises Fires...</td>\n      <td>0</td>\n    </tr>\n  </tbody>\n</table>\n<p>21445 rows × 2 columns</p>\n</div>"
     },
     "metadata": {},
     "execution_count": 8
    }
   ],
   "source": [
    "# Combine both real and fake news dataset\n",
    "df = pd.concat([df_real, df_fake])\n",
    "\n",
    "#Shuffle the final dataset\n",
    "df = df.sample(frac=1)\n",
    "df"
   ]
  }
 ]
}